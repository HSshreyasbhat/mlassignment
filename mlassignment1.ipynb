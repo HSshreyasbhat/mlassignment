{
 "cells": [
  {
   "cell_type": "code",
   "execution_count": 1,
   "id": "8703b5a6",
   "metadata": {},
   "outputs": [
    {
     "data": {
      "text/html": [
       "<div>\n",
       "<style scoped>\n",
       "    .dataframe tbody tr th:only-of-type {\n",
       "        vertical-align: middle;\n",
       "    }\n",
       "\n",
       "    .dataframe tbody tr th {\n",
       "        vertical-align: top;\n",
       "    }\n",
       "\n",
       "    .dataframe thead th {\n",
       "        text-align: right;\n",
       "    }\n",
       "</style>\n",
       "<table border=\"1\" class=\"dataframe\">\n",
       "  <thead>\n",
       "    <tr style=\"text-align: right;\">\n",
       "      <th></th>\n",
       "      <th>Unnamed: 0</th>\n",
       "      <th>City</th>\n",
       "      <th>Country</th>\n",
       "      <th>Population (2024)</th>\n",
       "      <th>Population (2023)</th>\n",
       "      <th>Growth Rate</th>\n",
       "    </tr>\n",
       "  </thead>\n",
       "  <tbody>\n",
       "    <tr>\n",
       "      <th>0</th>\n",
       "      <td>0</td>\n",
       "      <td>Tokyo</td>\n",
       "      <td>Japan</td>\n",
       "      <td>37115035</td>\n",
       "      <td>37194105</td>\n",
       "      <td>-0.0021</td>\n",
       "    </tr>\n",
       "    <tr>\n",
       "      <th>1</th>\n",
       "      <td>1</td>\n",
       "      <td>Delhi</td>\n",
       "      <td>India</td>\n",
       "      <td>33807403</td>\n",
       "      <td>32941309</td>\n",
       "      <td>0.0263</td>\n",
       "    </tr>\n",
       "    <tr>\n",
       "      <th>2</th>\n",
       "      <td>2</td>\n",
       "      <td>Shanghai</td>\n",
       "      <td>China</td>\n",
       "      <td>29867918</td>\n",
       "      <td>29210808</td>\n",
       "      <td>0.0225</td>\n",
       "    </tr>\n",
       "    <tr>\n",
       "      <th>3</th>\n",
       "      <td>3</td>\n",
       "      <td>Dhaka</td>\n",
       "      <td>Bangladesh</td>\n",
       "      <td>23935652</td>\n",
       "      <td>23209616</td>\n",
       "      <td>0.0313</td>\n",
       "    </tr>\n",
       "    <tr>\n",
       "      <th>4</th>\n",
       "      <td>4</td>\n",
       "      <td>Sao Paulo</td>\n",
       "      <td>Brazil</td>\n",
       "      <td>22806704</td>\n",
       "      <td>22619736</td>\n",
       "      <td>0.0083</td>\n",
       "    </tr>\n",
       "  </tbody>\n",
       "</table>\n",
       "</div>"
      ],
      "text/plain": [
       "   Unnamed: 0       City     Country  Population (2024)  Population (2023)  \\\n",
       "0           0      Tokyo       Japan           37115035           37194105   \n",
       "1           1      Delhi       India           33807403           32941309   \n",
       "2           2   Shanghai       China           29867918           29210808   \n",
       "3           3      Dhaka  Bangladesh           23935652           23209616   \n",
       "4           4  Sao Paulo      Brazil           22806704           22619736   \n",
       "\n",
       "   Growth Rate  \n",
       "0      -0.0021  \n",
       "1       0.0263  \n",
       "2       0.0225  \n",
       "3       0.0313  \n",
       "4       0.0083  "
      ]
     },
     "execution_count": 1,
     "metadata": {},
     "output_type": "execute_result"
    }
   ],
   "source": [
    "# Suppress warnings\n",
    "import warnings\n",
    "warnings.filterwarnings('ignore')\n",
    "\n",
    "# Import necessary libraries\n",
    "import pandas as pd\n",
    "import numpy as np\n",
    "import matplotlib.pyplot as plt\n",
    "import seaborn as sns\n",
    "from sklearn.model_selection import train_test_split\n",
    "from sklearn.linear_model import LinearRegression\n",
    "from sklearn.metrics import mean_squared_error, r2_score\n",
    "\n",
    "# Load the dataset\n",
    "file_path = 'World Largest Cities by Population 2024.csv'\n",
    "df = pd.read_csv(file_path)\n",
    "\n",
    "# Display the first few rows of the dataset\n",
    "df.head()"
   ]
  },
  {
   "cell_type": "code",
   "execution_count": 1,
   "id": "ed270141",
   "metadata": {},
   "outputs": [
    {
     "name": "stdout",
     "output_type": "stream",
     "text": [
      "   Unnamed: 0       City     Country  Population (2024)  Population (2023)  \\\n",
      "0           0      Tokyo       Japan           37115035           37194105   \n",
      "1           1      Delhi       India           33807403           32941309   \n",
      "2           2   Shanghai       China           29867918           29210808   \n",
      "3           3      Dhaka  Bangladesh           23935652           23209616   \n",
      "4           4  Sao Paulo      Brazil           22806704           22619736   \n",
      "\n",
      "   Growth Rate  \n",
      "0      -0.0021  \n",
      "1       0.0263  \n",
      "2       0.0225  \n",
      "3       0.0313  \n",
      "4       0.0083  \n",
      "Unnamed: 0           0\n",
      "City                 0\n",
      "Country              0\n",
      "Population (2024)    0\n",
      "Population (2023)    0\n",
      "Growth Rate          0\n",
      "dtype: int64\n"
     ]
    }
   ],
   "source": [
    "# Suppress warnings\n",
    "import warnings\n",
    "warnings.filterwarnings('ignore')\n",
    "\n",
    "# Import necessary libraries\n",
    "import pandas as pd\n",
    "import numpy as np\n",
    "import matplotlib.pyplot as plt\n",
    "import seaborn as sns\n",
    "from sklearn.model_selection import train_test_split\n",
    "from sklearn.linear_model import LinearRegression\n",
    "from sklearn.metrics import mean_squared_error, r2_score\n",
    "\n",
    "# Load the dataset\n",
    "file_path = 'World Largest Cities by Population 2024.csv'\n",
    "df = pd.read_csv(file_path)\n",
    "\n",
    "# Display the first few rows of the dataset to understand its structure\n",
    "print(df.head())\n",
    "\n",
    "# Check for any missing values\n",
    "print(df.isnull().sum())\n",
    "\n",
    "# It seems the dataset is clean (no missing values)\n",
    "\n",
    "# Optionally, drop any unnecessary columns like 'Unnamed: 0' if it's just an index\n",
    "df.drop('Unnamed: 0', axis=1, inplace=True)\n",
    "\n",
    "# Encode categorical variable 'Country' if needed (using LabelEncoder)\n",
    "from sklearn.preprocessing import LabelEncoder\n",
    "label_encoder = LabelEncoder()\n",
    "df['Country'] = label_encoder.fit_transform(df['Country'])\n",
    "\n",
    "# Splitting the data into features (X) and target (y)\n",
    "X = df[['Country', 'Population (2023)', 'Growth Rate']]\n",
    "y = df['Population (2024)']\n",
    "\n",
    "# Splitting into training and testing sets\n",
    "X_train, X_test, y_train, y_test = train_test_split(X, y, test_size=0.2, random_state=42)\n",
    "\n",
    "# Feature scaling (if necessary, not typically needed for linear regression)\n",
    "# from sklearn.preprocessing import StandardScaler\n",
    "# scaler = StandardScaler()\n",
    "# X_train_scaled = scaler.fit_transform(X_train)\n",
    "# X_test_scaled = scaler.transform(X_test)\n"
   ]
  },
  {
   "cell_type": "code",
   "execution_count": 2,
   "id": "e6a05c01",
   "metadata": {},
   "outputs": [
    {
     "name": "stdout",
     "output_type": "stream",
     "text": [
      "Mean Squared Error: 912998084.9143889\n",
      "R^2 Score: 0.999933581087912\n"
     ]
    },
    {
     "data": {
      "image/png": "[encoded data removed]",
      "text/plain": [
       "<Figure size 1000x600 with 1 Axes>"
      ]
     },
     "metadata": {},
     "output_type": "display_data"
    }
   ],
   "source": [
    "# Initialize the Linear Regression model\n",
    "model_lr = LinearRegression()\n",
    "\n",
    "# Train the model\n",
    "model_lr.fit(X_train, y_train)\n",
    "\n",
    "# Make predictions on the test data\n",
    "y_pred = model_lr.predict(X_test)\n",
    "\n",
    "# Evaluate the model\n",
    "mse = mean_squared_error(y_test, y_pred)\n",
    "r2 = r2_score(y_test, y_pred)\n",
    "\n",
    "print(f'Mean Squared Error: {mse}')\n",
    "print(f'R^2 Score: {r2}')\n",
    "\n",
    "# Visualize the predictions\n",
    "plt.figure(figsize=(10, 6))\n",
    "plt.scatter(y_test, y_pred, color='blue')\n",
    "plt.plot([y_test.min(), y_test.max()], [y_test.min(), y_test.max()], 'k--', lw=2)\n",
    "plt.xlabel('Actual')\n",
    "plt.ylabel('Predicted')\n",
    "plt.title('Linear Regression: Actual vs. Predicted')\n",
    "plt.show()\n"
   ]
  },
  {
   "cell_type": "code",
   "execution_count": 3,
   "id": "30d10946",
   "metadata": {},
   "outputs": [],
   "source": [
    "from sklearn.svm import SVR\n",
    "from sklearn.tree import DecisionTreeRegressor\n",
    "from sklearn.ensemble import RandomForestRegressor\n",
    "from sklearn.naive_bayes import GaussianNB\n",
    "from sklearn.neighbors import KNeighborsRegressor\n",
    "\n"
   ]
  },
  {
   "cell_type": "code",
   "execution_count": 4,
   "id": "a10b1c1d",
   "metadata": {},
   "outputs": [],
   "source": [
    "# Initialize the models\n",
    "model_svm = SVR(kernel='linear')\n",
    "model_dt = DecisionTreeRegressor()\n",
    "model_rf = RandomForestRegressor()\n",
    "model_nb = GaussianNB()\n",
    "model_knn = KNeighborsRegressor()\n",
    "\n"
   ]
  },
  {
   "cell_type": "code",
   "execution_count": 5,
   "id": "146fc6e9",
   "metadata": {},
   "outputs": [],
   "source": [
    "\n",
    "\n",
    "\n",
    "\n",
    "\n",
    "\n",
    "# Train Naive Bayes (for classification purposes, change to appropriate data format)\n",
    "X_train_nb, X_test_nb = X_train[['Country', 'Population (2023)']], X_test[['Country', 'Population (2023)']]\n",
    "model_nb.fit(X_train_nb, y_train)\n",
    "nb_pred = model_nb.predict(X_test_nb)\n",
    "\n",
    "# Train KNN\n",
    "model_knn.fit(X_train, y_train)\n",
    "knn_pred = model_knn.predict(X_test)\n",
    "\n"
   ]
  },
  {
   "cell_type": "code",
   "execution_count": 6,
   "id": "df4e317c",
   "metadata": {},
   "outputs": [],
   "source": [
    "# Train SVM\n",
    "model_svm.fit(X_train, y_train)\n",
    "svm_pred = model_svm.predict(X_test)"
   ]
  },
  {
   "cell_type": "code",
   "execution_count": 7,
   "id": "c5609811",
   "metadata": {},
   "outputs": [],
   "source": [
    "# Train Decision Tree\n",
    "model_dt.fit(X_train, y_train)\n",
    "dt_pred = model_dt.predict(X_test)"
   ]
  },
  {
   "cell_type": "code",
   "execution_count": 9,
   "id": "c09bb51b",
   "metadata": {
    "scrolled": true
   },
   "outputs": [],
   "source": [
    "# Train Random Forest\n",
    "model_rf.fit(X_train, y_train)\n",
    "rf_pred = model_rf.predict(X_test)"
   ]
  },
  {
   "cell_type": "code",
   "execution_count": 10,
   "id": "6b6a3f2d",
   "metadata": {},
   "outputs": [
    {
     "name": "stdout",
     "output_type": "stream",
     "text": [
      "SVM - Mean Squared Error: 6981162412601.7\n",
      "SVM - R^2 Score: 0.49213342260335025\n",
      "Decision Tree - Mean Squared Error: 112278703647.64597\n",
      "Decision Tree - R^2 Score: 0.9918319331988136\n",
      "Random Forest - Mean Squared Error: 9130057828.673834\n",
      "Random Forest - R^2 Score: 0.9993358052790017\n"
     ]
    }
   ],
   "source": [
    "# Evaluate models\n",
    "def evaluate_model(y_test, y_pred, model_name):\n",
    "    mse = mean_squared_error(y_test, y_pred)\n",
    "    r2 = r2_score(y_test, y_pred)\n",
    "    print(f'{model_name} - Mean Squared Error: {mse}')\n",
    "    print(f'{model_name} - R^2 Score: {r2}')\n",
    "\n",
    "# Evaluate SVM\n",
    "evaluate_model(y_test, svm_pred, 'SVM')\n",
    "\n",
    "# Evaluate Decision Tree\n",
    "evaluate_model(y_test, dt_pred, 'Decision Tree')\n",
    "\n",
    "# Evaluate Random Forest\n",
    "evaluate_model(y_test, rf_pred, 'Random Forest')\n",
    "\n",
    "\n",
    "\n",
    "\n"
   ]
  },
  {
   "cell_type": "code",
   "execution_count": 11,
   "id": "0f861260",
   "metadata": {},
   "outputs": [
    {
     "name": "stdout",
     "output_type": "stream",
     "text": [
      "Naive Bayes - Accuracy: 0.0\n"
     ]
    }
   ],
   "source": [
    "# For Naive Bayes (classification), you would use accuracy_score and possibly confusion_matrix\n",
    "from sklearn.metrics import accuracy_score, confusion_matrix\n",
    "nb_accuracy = accuracy_score(y_test, nb_pred)\n",
    "print(f'Naive Bayes - Accuracy: {nb_accuracy}')\n"
   ]
  },
  {
   "cell_type": "code",
   "execution_count": 12,
   "id": "7caed809",
   "metadata": {},
   "outputs": [
    {
     "name": "stdout",
     "output_type": "stream",
     "text": [
      "KNN - Mean Squared Error: 146949077040.87045\n",
      "KNN - R^2 Score: 0.9893097280370347\n"
     ]
    }
   ],
   "source": [
    "# Evaluate KNN\n",
    "evaluate_model(y_test, knn_pred, 'KNN')\n"
   ]
  },
  {
   "cell_type": "code",
   "execution_count": 13,
   "id": "d78b5710",
   "metadata": {},
   "outputs": [
    {
     "data": {
      "image/png": "[encoded data removed]",
      "text/plain": [
       "<Figure size 1000x600 with 1 Axes>"
      ]
     },
     "metadata": {},
     "output_type": "display_data"
    }
   ],
   "source": [
    "# Visualize results (example for Decision Tree)\n",
    "plt.figure(figsize=(10, 6))\n",
    "plt.scatter(y_test, dt_pred, color='green')\n",
    "plt.plot([y_test.min(), y_test.max()], [y_test.min(), y_test.max()], 'k--', lw=2)\n",
    "plt.xlabel('Actual')\n",
    "plt.ylabel('Predicted')\n",
    "plt.title('Decision Tree: Actual vs. Predicted')\n",
    "plt.show()"
   ]
  },
  {
   "cell_type": "code",
   "execution_count": null,
   "id": "54fdfbbc",
   "metadata": {},
   "outputs": [],
   "source": []
  }
 ],
 "metadata": {
  "kernelspec": {
   "display_name": "Python 3 (ipykernel)",
   "language": "python",
   "name": "python3"
  },
  "language_info": {
   "codemirror_mode": {
    "name": "ipython",
    "version": 3
   },
   "file_extension": ".py",
   "mimetype": "text/x-python",
   "name": "python",
   "nbconvert_exporter": "python",
   "pygments_lexer": "ipython3",
   "version": "3.9.13"
  }
 },
 "nbformat": 4,
 "nbformat_minor": 5
}
